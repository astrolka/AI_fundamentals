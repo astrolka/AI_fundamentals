{
 "cells": [
  {
   "cell_type": "markdown",
   "id": "3f39afb3-3a93-4a31-afd9-c730eba5ca62",
   "metadata": {},
   "source": [
    "# Решить оптимизационную задачу с помощью sympy"
   ]
  },
  {
   "cell_type": "code",
   "execution_count": 7,
   "id": "80fdd136-c2a1-4858-94b0-b63c23a6d802",
   "metadata": {},
   "outputs": [],
   "source": [
    "from sympy.abc import x, y\n",
    "from sympy import Matrix, hessian, cos"
   ]
  },
  {
   "cell_type": "code",
   "execution_count": 8,
   "id": "83cdf41b-56c1-476c-8fbe-dc7bbfd47ff4",
   "metadata": {},
   "outputs": [],
   "source": [
    "eq = -3 * x**2 - 4 * y**2 - 23 * cos(x - 0.5)"
   ]
  }
 ],
 "metadata": {
  "kernelspec": {
   "display_name": "Python 3 (ipykernel)",
   "language": "python",
   "name": "python3"
  },
  "language_info": {
   "codemirror_mode": {
    "name": "ipython",
    "version": 3
   },
   "file_extension": ".py",
   "mimetype": "text/x-python",
   "name": "python",
   "nbconvert_exporter": "python",
   "pygments_lexer": "ipython3",
   "version": "3.9.7"
  }
 },
 "nbformat": 4,
 "nbformat_minor": 5
}
